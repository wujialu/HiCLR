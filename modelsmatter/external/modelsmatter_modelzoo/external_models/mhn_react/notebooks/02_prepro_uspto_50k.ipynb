{
 "cells": [
  {
   "cell_type": "code",
   "execution_count": null,
   "metadata": {},
   "outputs": [],
   "source": [
    "%cd .."
   ]
  },
  {
   "cell_type": "markdown",
   "metadata": {},
   "source": [
    "# Prepare USPTO-50k for single-step retrosynthesis"
   ]
  },
  {
   "cell_type": "code",
   "execution_count": 2,
   "metadata": {},
   "outputs": [
    {
     "data": {
      "text/html": [
       "<div>\n",
       "<style scoped>\n",
       "    .dataframe tbody tr th:only-of-type {\n",
       "        vertical-align: middle;\n",
       "    }\n",
       "\n",
       "    .dataframe tbody tr th {\n",
       "        vertical-align: top;\n",
       "    }\n",
       "\n",
       "    .dataframe thead th {\n",
       "        text-align: right;\n",
       "    }\n",
       "</style>\n",
       "<table border=\"1\" class=\"dataframe\">\n",
       "  <thead>\n",
       "    <tr style=\"text-align: right;\">\n",
       "      <th></th>\n",
       "      <th>class</th>\n",
       "      <th>id</th>\n",
       "      <th>prod_smiles</th>\n",
       "      <th>rxn_smiles</th>\n",
       "      <th>prod_smiles_pop</th>\n",
       "      <th>keep</th>\n",
       "    </tr>\n",
       "  </thead>\n",
       "  <tbody>\n",
       "    <tr>\n",
       "      <th>10521</th>\n",
       "      <td>1</td>\n",
       "      <td>US20100317582A1</td>\n",
       "      <td>C[C@@H](NC1CCCC(c2ccccn2)C1)c1cccc2ccccc12</td>\n",
       "      <td>O=[C:1]1[CH2:2][CH2:3][CH2:4][CH:5]([c:6]2[cH:...</td>\n",
       "      <td>1</td>\n",
       "      <td>True</td>\n",
       "    </tr>\n",
       "    <tr>\n",
       "      <th>25492</th>\n",
       "      <td>1</td>\n",
       "      <td>US05932582</td>\n",
       "      <td>Cc1cc(OCC(N)=O)ccc1NC(=O)OC(C)(C)C</td>\n",
       "      <td>Br[CH2:1][C:2]([NH2:3])=[O:4].[CH3:5][c:6]1[cH...</td>\n",
       "      <td>1</td>\n",
       "      <td>True</td>\n",
       "    </tr>\n",
       "    <tr>\n",
       "      <th>46997</th>\n",
       "      <td>7</td>\n",
       "      <td>US05266570</td>\n",
       "      <td>Nc1cnc(NC2CCN(CC34CC(c5ccccc53)c3ccccc34)CC2)nc1N</td>\n",
       "      <td>O=[N+:1]([O-])[c:2]1[c:3]([NH2:4])[n:5][c:6]([...</td>\n",
       "      <td>1</td>\n",
       "      <td>True</td>\n",
       "    </tr>\n",
       "    <tr>\n",
       "      <th>15580</th>\n",
       "      <td>6</td>\n",
       "      <td>US20080181866A1</td>\n",
       "      <td>O=C(O)C1CS[C@H](C2CCCNC2)N1C(=O)OCc1ccccc1</td>\n",
       "      <td>CC(C)(C)OC(=O)[N:1]1[CH2:2][CH2:3][CH2:4][CH:5...</td>\n",
       "      <td>1</td>\n",
       "      <td>True</td>\n",
       "    </tr>\n",
       "    <tr>\n",
       "      <th>6961</th>\n",
       "      <td>7</td>\n",
       "      <td>US07229987B2</td>\n",
       "      <td>CN(C)CCCOc1ccc(N)cc1</td>\n",
       "      <td>O=[N+:1]([O-])[c:2]1[cH:3][cH:4][c:5]([O:6][CH...</td>\n",
       "      <td>1</td>\n",
       "      <td>True</td>\n",
       "    </tr>\n",
       "  </tbody>\n",
       "</table>\n",
       "</div>"
      ],
      "text/plain": [
       "       class               id  \\\n",
       "10521      1  US20100317582A1   \n",
       "25492      1       US05932582   \n",
       "46997      7       US05266570   \n",
       "15580      6  US20080181866A1   \n",
       "6961       7     US07229987B2   \n",
       "\n",
       "                                             prod_smiles  \\\n",
       "10521         C[C@@H](NC1CCCC(c2ccccn2)C1)c1cccc2ccccc12   \n",
       "25492                 Cc1cc(OCC(N)=O)ccc1NC(=O)OC(C)(C)C   \n",
       "46997  Nc1cnc(NC2CCN(CC34CC(c5ccccc53)c3ccccc34)CC2)nc1N   \n",
       "15580         O=C(O)C1CS[C@H](C2CCCNC2)N1C(=O)OCc1ccccc1   \n",
       "6961                                CN(C)CCCOc1ccc(N)cc1   \n",
       "\n",
       "                                              rxn_smiles  prod_smiles_pop  \\\n",
       "10521  O=[C:1]1[CH2:2][CH2:3][CH2:4][CH:5]([c:6]2[cH:...                1   \n",
       "25492  Br[CH2:1][C:2]([NH2:3])=[O:4].[CH3:5][c:6]1[cH...                1   \n",
       "46997  O=[N+:1]([O-])[c:2]1[c:3]([NH2:4])[n:5][c:6]([...                1   \n",
       "15580  CC(C)(C)OC(=O)[N:1]1[CH2:2][CH2:3][CH2:4][CH:5...                1   \n",
       "6961   O=[N+:1]([O-])[c:2]1[cH:3][cH:4][c:5]([O:6][CH...                1   \n",
       "\n",
       "       keep  \n",
       "10521  True  \n",
       "25492  True  \n",
       "46997  True  \n",
       "15580  True  \n",
       "6961   True  "
      ]
     },
     "execution_count": 2,
     "metadata": {},
     "output_type": "execute_result"
    }
   ],
   "source": [
    "# load the dataset\n",
    "import pandas as pd\n",
    "# or can be downloaded here: https://github.com/connorcoley/retrosim/raw/master/retrosim/data/data_processed.csv\n",
    "df = pd.read_csv('https://github.com/connorcoley/retrosim/raw/master/retrosim/data/data_processed.csv', index_col=0)\n",
    "df = df.sample(len(df), random_state=42) # shuffle the dataset\n",
    "df.head()"
   ]
  },
  {
   "cell_type": "code",
   "execution_count": 3,
   "metadata": {},
   "outputs": [],
   "source": [
    "import numpy as np\n",
    "def split_data_df(data, val_frac=0.1, test_frac=0.1, shuffle=False, seed=None):\n",
    "    \"\"\"edited from https://github.com/connorcoley/retrosim/blob/master/retrosim/data/get_data.py\"\"\"\n",
    "    # Define shuffling\n",
    "    if shuffle:\n",
    "        if seed is None:\n",
    "            np.random.seed(int(time.time()))\n",
    "        else:\n",
    "            np.random.seed(seed)\n",
    "        def shuffle_func(x):\n",
    "            np.random.shuffle(x)\n",
    "    else:\n",
    "        def shuffle_func(x):\n",
    "            pass\n",
    "\n",
    "    # Go through each class\n",
    "    classes = sorted(np.unique(data['class']))\n",
    "    for class_ in classes:\n",
    "        indeces = data.loc[data['class'] == class_].index\n",
    "        N = len(indeces)\n",
    "        print('{} rows with class value {}'.format(N, class_))\n",
    "\n",
    "        shuffle_func(indeces)\n",
    "        train_end = int((1.0 - val_frac - test_frac) * N)\n",
    "        val_end = int((1.0 - test_frac) * N)\n",
    "\n",
    "        for i in indeces[:train_end]:\n",
    "            data.at[i, 'dataset'] =  'train'\n",
    "        for i in indeces[train_end:val_end]:\n",
    "            data.at[i, 'dataset'] =  'valid'\n",
    "        for i in indeces[val_end:]:\n",
    "            data.at[i, 'dataset'] =  'test'\n",
    "    print(data['dataset'].value_counts())"
   ]
  },
  {
   "cell_type": "code",
   "execution_count": 4,
   "metadata": {},
   "outputs": [
    {
     "name": "stdout",
     "output_type": "stream",
     "text": [
      "15151 rows with class value 1\n",
      "11896 rows with class value 2\n",
      "5662 rows with class value 3\n",
      "909 rows with class value 4\n",
      "672 rows with class value 5\n",
      "8237 rows with class value 6\n",
      "4614 rows with class value 7\n",
      "811 rows with class value 8\n",
      "1834 rows with class value 9\n",
      "230 rows with class value 10\n",
      "train    40008\n",
      "test      5007\n",
      "valid     5001\n",
      "Name: dataset, dtype: int64\n"
     ]
    },
    {
     "data": {
      "text/html": [
       "<div>\n",
       "<style scoped>\n",
       "    .dataframe tbody tr th:only-of-type {\n",
       "        vertical-align: middle;\n",
       "    }\n",
       "\n",
       "    .dataframe tbody tr th {\n",
       "        vertical-align: top;\n",
       "    }\n",
       "\n",
       "    .dataframe thead th {\n",
       "        text-align: right;\n",
       "    }\n",
       "</style>\n",
       "<table border=\"1\" class=\"dataframe\">\n",
       "  <thead>\n",
       "    <tr style=\"text-align: right;\">\n",
       "      <th></th>\n",
       "      <th>class</th>\n",
       "      <th>id</th>\n",
       "      <th>prod_smiles</th>\n",
       "      <th>rxn_smiles</th>\n",
       "      <th>prod_smiles_pop</th>\n",
       "      <th>keep</th>\n",
       "      <th>dataset</th>\n",
       "    </tr>\n",
       "  </thead>\n",
       "  <tbody>\n",
       "    <tr>\n",
       "      <th>10521</th>\n",
       "      <td>1</td>\n",
       "      <td>US20100317582A1</td>\n",
       "      <td>C[C@@H](NC1CCCC(c2ccccn2)C1)c1cccc2ccccc12</td>\n",
       "      <td>O=[C:1]1[CH2:2][CH2:3][CH2:4][CH:5]([c:6]2[cH:...</td>\n",
       "      <td>1</td>\n",
       "      <td>True</td>\n",
       "      <td>train</td>\n",
       "    </tr>\n",
       "    <tr>\n",
       "      <th>25492</th>\n",
       "      <td>1</td>\n",
       "      <td>US05932582</td>\n",
       "      <td>Cc1cc(OCC(N)=O)ccc1NC(=O)OC(C)(C)C</td>\n",
       "      <td>Br[CH2:1][C:2]([NH2:3])=[O:4].[CH3:5][c:6]1[cH...</td>\n",
       "      <td>1</td>\n",
       "      <td>True</td>\n",
       "      <td>train</td>\n",
       "    </tr>\n",
       "    <tr>\n",
       "      <th>46997</th>\n",
       "      <td>7</td>\n",
       "      <td>US05266570</td>\n",
       "      <td>Nc1cnc(NC2CCN(CC34CC(c5ccccc53)c3ccccc34)CC2)nc1N</td>\n",
       "      <td>O=[N+:1]([O-])[c:2]1[c:3]([NH2:4])[n:5][c:6]([...</td>\n",
       "      <td>1</td>\n",
       "      <td>True</td>\n",
       "      <td>train</td>\n",
       "    </tr>\n",
       "    <tr>\n",
       "      <th>15580</th>\n",
       "      <td>6</td>\n",
       "      <td>US20080181866A1</td>\n",
       "      <td>O=C(O)C1CS[C@H](C2CCCNC2)N1C(=O)OCc1ccccc1</td>\n",
       "      <td>CC(C)(C)OC(=O)[N:1]1[CH2:2][CH2:3][CH2:4][CH:5...</td>\n",
       "      <td>1</td>\n",
       "      <td>True</td>\n",
       "      <td>train</td>\n",
       "    </tr>\n",
       "    <tr>\n",
       "      <th>6961</th>\n",
       "      <td>7</td>\n",
       "      <td>US07229987B2</td>\n",
       "      <td>CN(C)CCCOc1ccc(N)cc1</td>\n",
       "      <td>O=[N+:1]([O-])[c:2]1[cH:3][cH:4][c:5]([O:6][CH...</td>\n",
       "      <td>1</td>\n",
       "      <td>True</td>\n",
       "      <td>train</td>\n",
       "    </tr>\n",
       "  </tbody>\n",
       "</table>\n",
       "</div>"
      ],
      "text/plain": [
       "       class               id  \\\n",
       "10521      1  US20100317582A1   \n",
       "25492      1       US05932582   \n",
       "46997      7       US05266570   \n",
       "15580      6  US20080181866A1   \n",
       "6961       7     US07229987B2   \n",
       "\n",
       "                                             prod_smiles  \\\n",
       "10521         C[C@@H](NC1CCCC(c2ccccn2)C1)c1cccc2ccccc12   \n",
       "25492                 Cc1cc(OCC(N)=O)ccc1NC(=O)OC(C)(C)C   \n",
       "46997  Nc1cnc(NC2CCN(CC34CC(c5ccccc53)c3ccccc34)CC2)nc1N   \n",
       "15580         O=C(O)C1CS[C@H](C2CCCNC2)N1C(=O)OCc1ccccc1   \n",
       "6961                                CN(C)CCCOc1ccc(N)cc1   \n",
       "\n",
       "                                              rxn_smiles  prod_smiles_pop  \\\n",
       "10521  O=[C:1]1[CH2:2][CH2:3][CH2:4][CH:5]([c:6]2[cH:...                1   \n",
       "25492  Br[CH2:1][C:2]([NH2:3])=[O:4].[CH3:5][c:6]1[cH...                1   \n",
       "46997  O=[N+:1]([O-])[c:2]1[c:3]([NH2:4])[n:5][c:6]([...                1   \n",
       "15580  CC(C)(C)OC(=O)[N:1]1[CH2:2][CH2:3][CH2:4][CH:5...                1   \n",
       "6961   O=[N+:1]([O-])[c:2]1[cH:3][cH:4][c:5]([O:6][CH...                1   \n",
       "\n",
       "       keep dataset  \n",
       "10521  True   train  \n",
       "25492  True   train  \n",
       "46997  True   train  \n",
       "15580  True   train  \n",
       "6961   True   train  "
      ]
     },
     "execution_count": 4,
     "metadata": {},
     "output_type": "execute_result"
    }
   ],
   "source": [
    "# split the data just like in retrosim (don't know the seed though) # shuffle throws error\n",
    "#from retrosim.data.get_data import split_data_df\n",
    "split_data_df(df, shuffle=False, seed=42) # 80/10/10 within each class\n",
    "df.head()"
   ]
  },
  {
   "cell_type": "code",
   "execution_count": 5,
   "metadata": {},
   "outputs": [],
   "source": [
    "import hashlib\n",
    "def create_hash(pd_row):\n",
    "    return hashlib.md5(pd_row.to_json().encode()).hexdigest()\n",
    "\n",
    "if '_id' not in df.columns:\n",
    "    df['_id'] = df.apply(create_hash, axis=1)"
   ]
  },
  {
   "cell_type": "code",
   "execution_count": 6,
   "metadata": {},
   "outputs": [],
   "source": [
    "df.rename(columns={'rxn_smiles':'reaction_smiles'}, inplace=True)\n",
    "df.rename(columns={'dataset':'split'}, inplace=True)"
   ]
  },
  {
   "cell_type": "code",
   "execution_count": 7,
   "metadata": {},
   "outputs": [],
   "source": [
    "reactants, spectators, products = list(zip(*[s.split('>') for s in df['reaction_smiles']]))\n",
    "df['reactants'] = reactants\n",
    "df['spectators'] = spectators\n",
    "df['products'] = products"
   ]
  },
  {
   "cell_type": "code",
   "execution_count": 8,
   "metadata": {},
   "outputs": [],
   "source": [
    "# extract templates\n",
    "\n",
    "from multiprocessing import Pool\n",
    "from rdchiral.template_extractor import extract_from_reaction\n",
    "\n",
    "reaction_dicts = [row.to_dict() for i, row in df.iterrows()]\n",
    "with Pool(32) as pool:\n",
    "    res = pool.map(extract_from_reaction, reaction_dicts)"
   ]
  },
  {
   "cell_type": "code",
   "execution_count": 9,
   "metadata": {},
   "outputs": [],
   "source": [
    "assert list(df._id) == [r['reaction_id'] for r in res]\n",
    "reaction_smarts = [r['reaction_smarts'] for r in res]\n",
    "df['reaction_smarts'] = reaction_smarts"
   ]
  },
  {
   "cell_type": "code",
   "execution_count": 10,
   "metadata": {},
   "outputs": [],
   "source": [
    "# canonicalize reactant (optionally product_can_from_reaction)\n",
    "from mhnreact.retroeval import canonicalize_reactants\n",
    "df['reactants_can'] = [canonicalize_reactants(r, can_steps=2) for r in df['reactants']]"
   ]
  },
  {
   "cell_type": "code",
   "execution_count": 11,
   "metadata": {},
   "outputs": [],
   "source": [
    "def filter_by_dict(df, fil):\n",
    "    for col, value in fil.items():\n",
    "        if not isinstance(value, list):\n",
    "            value = [value]\n",
    "        df = df[df[col].isin(value)]\n",
    "    return df"
   ]
  },
  {
   "cell_type": "code",
   "execution_count": 12,
   "metadata": {},
   "outputs": [],
   "source": [
    "import re\n",
    "\n",
    "mre = ':\\d+(?=])'\n",
    "unmapped = [re.sub(mre,'',r) for r in df['reaction_smarts']]\n",
    "df['unmapped_template'] = unmapped\n",
    "\n",
    "unmapped2idx = {}\n",
    "labels = []\n",
    "for split in ['train', 'valid', 'test']:\n",
    "    sub = filter_by_dict(df, {'split': split})\n",
    "    for u in sub['unmapped_template']:\n",
    "        if u not in unmapped2idx:\n",
    "            label = len(unmapped2idx)\n",
    "            unmapped2idx[u] = label\n",
    "            \n",
    "df['label'] = [unmapped2idx[u] for u in df['unmapped_template']]"
   ]
  },
  {
   "cell_type": "code",
   "execution_count": 13,
   "metadata": {},
   "outputs": [
    {
     "data": {
      "text/plain": [
       "class                                                                1\n",
       "id                                                     US20100317582A1\n",
       "prod_smiles                 C[C@@H](NC1CCCC(c2ccccn2)C1)c1cccc2ccccc12\n",
       "reaction_smiles      O=[C:1]1[CH2:2][CH2:3][CH2:4][CH:5]([c:6]2[cH:...\n",
       "prod_smiles_pop                                                      1\n",
       "keep                                                              True\n",
       "split                                                            train\n",
       "_id                                   20f7e94253448bd4e0c5edb1c421eea0\n",
       "reactants            O=[C:1]1[CH2:2][CH2:3][CH2:4][CH:5]([c:6]2[cH:...\n",
       "spectators                                                            \n",
       "products             [CH:1]1([NH:15][C@H:14]([CH3:13])[c:16]2[cH:17...\n",
       "reaction_smarts      [C:2]-[CH;D3;+0:1](-[C:3])-[NH;D2;+0:5]-[C:4]>...\n",
       "reactants_can            C[C@@H](N)c1cccc2ccccc12.O=C1CCCC(c2ccccn2)C1\n",
       "unmapped_template    [C]-[CH;D3;+0](-[C])-[NH;D2;+0]-[C]>>O=[C;H0;D...\n",
       "label                                                                0\n",
       "Name: 10521, dtype: object"
      ]
     },
     "execution_count": 13,
     "metadata": {},
     "output_type": "execute_result"
    }
   ],
   "source": [
    "df.iloc[0]"
   ]
  },
  {
   "cell_type": "code",
   "execution_count": 14,
   "metadata": {},
   "outputs": [],
   "source": [
    "# all the relevant data is now in here\n",
    "df_rel = df[['id','class','prod_smiles','reactants_can','split', 'reaction_smarts', 'label']]"
   ]
  },
  {
   "cell_type": "code",
   "execution_count": 15,
   "metadata": {},
   "outputs": [],
   "source": [
    "df_rel.to_csv('./data/USPTO_50k_MHN_prepro_recre.csv.gz') # note it's not the same file-size due to e.g. time-split is missing"
   ]
  },
  {
   "cell_type": "code",
   "execution_count": null,
   "metadata": {},
   "outputs": [],
   "source": [
    "#df.to_csv('./data/USPTO_50k_MHN_prepro_allcol.csv') # all columns"
   ]
  }
 ],
 "metadata": {
  "kernelspec": {
   "display_name": "Python 3",
   "language": "python",
   "name": "python3"
  },
  "language_info": {
   "codemirror_mode": {
    "name": "ipython",
    "version": 3
   },
   "file_extension": ".py",
   "mimetype": "text/x-python",
   "name": "python",
   "nbconvert_exporter": "python",
   "pygments_lexer": "ipython3",
   "version": "3.7.6"
  }
 },
 "nbformat": 4,
 "nbformat_minor": 4
}
