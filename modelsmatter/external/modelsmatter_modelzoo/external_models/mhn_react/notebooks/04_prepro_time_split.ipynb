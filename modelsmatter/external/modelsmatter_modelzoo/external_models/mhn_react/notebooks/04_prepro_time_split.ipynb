{
 "cells": [
  {
   "cell_type": "code",
   "execution_count": null,
   "metadata": {},
   "outputs": [],
   "source": [
    "%cd .."
   ]
  },
  {
   "cell_type": "code",
   "execution_count": 2,
   "metadata": {},
   "outputs": [],
   "source": [
    "import os\n",
    "try:\n",
    "    os.mkdir('./data/raw')\n",
    "except:\n",
    "    pass\n",
    "try:\n",
    "    os.mkdir('./data/raw/USPTO_original')\n",
    "except:\n",
    "    pass"
   ]
  },
  {
   "cell_type": "code",
   "execution_count": 3,
   "metadata": {},
   "outputs": [
    {
     "name": "stdout",
     "output_type": "stream",
     "text": [
      "--2021-09-22 10:31:19--  https://ndownloader.figshare.com/articles/5104873/versions/1\n",
      "Resolving ndownloader.figshare.com (ndownloader.figshare.com)... 52.16.102.173, 54.217.124.219, 2a05:d018:1f4:d000:b283:27aa:b939:8ed4, ...\n",
      "Connecting to ndownloader.figshare.com (ndownloader.figshare.com)|52.16.102.173|:443... connected.\n",
      "HTTP request sent, awaiting response... 200 OK\n",
      "Length: 1494666791 (1.4G) [application/zip]\n",
      "Saving to: ‘1’\n",
      "\n",
      "1                   100%[===================>]   1.39G  60.0MB/s    in 25s     \n",
      "\n",
      "2021-09-22 10:31:47 (56.3 MB/s) - ‘1’ saved [1494666791/1494666791]\n",
      "\n"
     ]
    }
   ],
   "source": [
    "# download the original USPTO datasets\n",
    "!wget https://ndownloader.figshare.com/articles/5104873/versions/1\n",
    "# move it to data/raw\n",
    "!mv 1 data/raw"
   ]
  },
  {
   "cell_type": "code",
   "execution_count": 4,
   "metadata": {},
   "outputs": [
    {
     "name": "stdout",
     "output_type": "stream",
     "text": [
      "Archive:  data/raw/1\n",
      " extracting: data/raw/1976_Sep2016_USPTOgrants_cml.7z  \n",
      " extracting: data/raw/2001_Sep2016_USPTOapplications_cml.7z  \n",
      " extracting: data/raw/2001_Sep2016_USPTOapplications_smiles.7z  \n",
      " extracting: data/raw/1976_Sep2016_USPTOgrants_smiles.7z  \n",
      " extracting: data/raw/cml_xsd.zip    \n"
     ]
    }
   ],
   "source": [
    "# unzip the datasets\n",
    "!unzip data/raw/1 -d data/raw"
   ]
  },
  {
   "cell_type": "code",
   "execution_count": 5,
   "metadata": {},
   "outputs": [],
   "source": [
    "# remove the original file\n",
    "!rm data/raw/1"
   ]
  },
  {
   "cell_type": "code",
   "execution_count": 6,
   "metadata": {},
   "outputs": [
    {
     "name": "stdout",
     "output_type": "stream",
     "text": [
      "Requirement already satisfied: pyunpack in /publicwork/seidl/env/anaconda3/envs/seidlenv_badger/lib/python3.7/site-packages (0.2.2)\n",
      "Requirement already satisfied: easyprocess in /publicwork/seidl/env/anaconda3/envs/seidlenv_badger/lib/python3.7/site-packages (from pyunpack) (0.3)\n",
      "Requirement already satisfied: entrypoint2 in /publicwork/seidl/env/anaconda3/envs/seidlenv_badger/lib/python3.7/site-packages (from pyunpack) (0.2.4)\n"
     ]
    }
   ],
   "source": [
    "!pip install pyunpack"
   ]
  },
  {
   "cell_type": "code",
   "execution_count": 7,
   "metadata": {},
   "outputs": [
    {
     "name": "stdout",
     "output_type": "stream",
     "text": [
      "Requirement already satisfied: patool in /publicwork/seidl/env/anaconda3/envs/seidlenv_badger/lib/python3.7/site-packages (1.12)\n"
     ]
    }
   ],
   "source": [
    "!pip install patool"
   ]
  },
  {
   "cell_type": "code",
   "execution_count": 8,
   "metadata": {},
   "outputs": [],
   "source": [
    "from pyunpack import Archive\n",
    "Archive('data/raw/1976_Sep2016_USPTOgrants_smiles.7z').extractall(\"data/raw/USPTO_original/\")"
   ]
  },
  {
   "cell_type": "code",
   "execution_count": 9,
   "metadata": {},
   "outputs": [],
   "source": [
    "Archive('data/raw/2001_Sep2016_USPTOapplications_smiles.7z').extractall(\"data/raw/USPTO_original/\")"
   ]
  },
  {
   "cell_type": "code",
   "execution_count": 10,
   "metadata": {},
   "outputs": [],
   "source": [
    "Archive('data/raw/1976_Sep2016_USPTOgrants_cml.7z').extractall(\"data/raw/USPTO_original/\")"
   ]
  },
  {
   "cell_type": "code",
   "execution_count": 11,
   "metadata": {},
   "outputs": [
    {
     "name": "stderr",
     "output_type": "stream",
     "text": [
      "/system/user/seidl/seidl/env/anaconda3/envs/seidlenv_badger/lib/python3.7/site-packages/IPython/core/interactiveshell.py:3072: DtypeWarning: Columns (2) have mixed types.Specify dtype option on import or set low_memory=False.\n",
      "  interactivity=interactivity, compiler=compiler, result=result)\n"
     ]
    }
   ],
   "source": [
    "import pandas as pd\n",
    "df3 = pd.read_csv('data/raw/USPTO_original/1976_Sep2016_USPTOgrants_smiles.rsmi',sep='\\t')"
   ]
  },
  {
   "cell_type": "code",
   "execution_count": 12,
   "metadata": {},
   "outputs": [],
   "source": [
    "df = pd.read_csv('data/raw/USPTO_original/1976_Sep2016_USPTOgrants_smiles.rsmi',sep='\\t')"
   ]
  },
  {
   "cell_type": "code",
   "execution_count": 13,
   "metadata": {},
   "outputs": [],
   "source": [
    "df2 = pd.read_csv('data/raw/USPTO_original/2001_Sep2016_USPTOapplications_smiles.rsmi',sep='\\t')"
   ]
  },
  {
   "cell_type": "code",
   "execution_count": 14,
   "metadata": {},
   "outputs": [],
   "source": [
    "df = pd.concat([df,df2])"
   ]
  },
  {
   "cell_type": "code",
   "execution_count": 15,
   "metadata": {},
   "outputs": [
    {
     "data": {
      "text/html": [
       "<div>\n",
       "<style scoped>\n",
       "    .dataframe tbody tr th:only-of-type {\n",
       "        vertical-align: middle;\n",
       "    }\n",
       "\n",
       "    .dataframe tbody tr th {\n",
       "        vertical-align: top;\n",
       "    }\n",
       "\n",
       "    .dataframe thead th {\n",
       "        text-align: right;\n",
       "    }\n",
       "</style>\n",
       "<table border=\"1\" class=\"dataframe\">\n",
       "  <thead>\n",
       "    <tr style=\"text-align: right;\">\n",
       "      <th></th>\n",
       "      <th>ReactionSmiles</th>\n",
       "      <th>PatentNumber</th>\n",
       "      <th>ParagraphNum</th>\n",
       "      <th>Year</th>\n",
       "      <th>TextMinedYield</th>\n",
       "      <th>CalculatedYield</th>\n",
       "    </tr>\n",
       "  </thead>\n",
       "  <tbody>\n",
       "    <tr>\n",
       "      <th>0</th>\n",
       "      <td>[Br:1][CH2:2][CH2:3][OH:4].[CH2:5]([S:7](Cl)(=...</td>\n",
       "      <td>US03930836</td>\n",
       "      <td>NaN</td>\n",
       "      <td>1976</td>\n",
       "      <td>NaN</td>\n",
       "      <td>NaN</td>\n",
       "    </tr>\n",
       "    <tr>\n",
       "      <th>1</th>\n",
       "      <td>[Br:1][CH2:2][CH2:3][CH2:4][OH:5].[CH3:6][S:7]...</td>\n",
       "      <td>US03930836</td>\n",
       "      <td>NaN</td>\n",
       "      <td>1976</td>\n",
       "      <td>NaN</td>\n",
       "      <td>NaN</td>\n",
       "    </tr>\n",
       "    <tr>\n",
       "      <th>2</th>\n",
       "      <td>[CH2:1]([Cl:4])[CH2:2][OH:3].CCOCC.[CH2:10]([S...</td>\n",
       "      <td>US03930836</td>\n",
       "      <td>NaN</td>\n",
       "      <td>1976</td>\n",
       "      <td>NaN</td>\n",
       "      <td>NaN</td>\n",
       "    </tr>\n",
       "    <tr>\n",
       "      <th>3</th>\n",
       "      <td>[Br:1][CH2:2][CH2:3][OH:4].[CH2:5]([S:7](Cl)(=...</td>\n",
       "      <td>US03930839</td>\n",
       "      <td>NaN</td>\n",
       "      <td>1976</td>\n",
       "      <td>NaN</td>\n",
       "      <td>NaN</td>\n",
       "    </tr>\n",
       "    <tr>\n",
       "      <th>4</th>\n",
       "      <td>[Br:1][CH2:2][CH2:3][CH2:4][OH:5].[CH3:6][S:7]...</td>\n",
       "      <td>US03930839</td>\n",
       "      <td>NaN</td>\n",
       "      <td>1976</td>\n",
       "      <td>NaN</td>\n",
       "      <td>NaN</td>\n",
       "    </tr>\n",
       "  </tbody>\n",
       "</table>\n",
       "</div>"
      ],
      "text/plain": [
       "                                      ReactionSmiles PatentNumber  \\\n",
       "0  [Br:1][CH2:2][CH2:3][OH:4].[CH2:5]([S:7](Cl)(=...   US03930836   \n",
       "1  [Br:1][CH2:2][CH2:3][CH2:4][OH:5].[CH3:6][S:7]...   US03930836   \n",
       "2  [CH2:1]([Cl:4])[CH2:2][OH:3].CCOCC.[CH2:10]([S...   US03930836   \n",
       "3  [Br:1][CH2:2][CH2:3][OH:4].[CH2:5]([S:7](Cl)(=...   US03930839   \n",
       "4  [Br:1][CH2:2][CH2:3][CH2:4][OH:5].[CH3:6][S:7]...   US03930839   \n",
       "\n",
       "  ParagraphNum  Year TextMinedYield CalculatedYield  \n",
       "0          NaN  1976            NaN             NaN  \n",
       "1          NaN  1976            NaN             NaN  \n",
       "2          NaN  1976            NaN             NaN  \n",
       "3          NaN  1976            NaN             NaN  \n",
       "4          NaN  1976            NaN             NaN  "
      ]
     },
     "execution_count": 15,
     "metadata": {},
     "output_type": "execute_result"
    }
   ],
   "source": [
    "df.head()"
   ]
  },
  {
   "cell_type": "code",
   "execution_count": 16,
   "metadata": {},
   "outputs": [],
   "source": [
    "df_50k = pd.read_csv('data/USPTO_50k_MHN_prepro.csv.gz')"
   ]
  },
  {
   "cell_type": "code",
   "execution_count": 17,
   "metadata": {},
   "outputs": [
    {
     "data": {
      "text/plain": [
       "0        US20100317582A1\n",
       "1             US05932582\n",
       "2             US05266570\n",
       "3        US20080181866A1\n",
       "4           US07229987B2\n",
       "              ...       \n",
       "50011       US08232289B2\n",
       "50012         US04093715\n",
       "50013    US20110082164A1\n",
       "50014    US20110312974A1\n",
       "50015    US20120046418A1\n",
       "Name: id, Length: 50016, dtype: object"
      ]
     },
     "execution_count": 17,
     "metadata": {},
     "output_type": "execute_result"
    }
   ],
   "source": [
    "df_50k['id']"
   ]
  },
  {
   "cell_type": "code",
   "execution_count": 18,
   "metadata": {},
   "outputs": [],
   "source": [
    "df_cd = pd.merge(df_50k, df, how='inner', left_on = 'id', right_on='PatentNumber')"
   ]
  },
  {
   "cell_type": "code",
   "execution_count": 19,
   "metadata": {},
   "outputs": [
    {
     "data": {
      "text/html": [
       "<div>\n",
       "<style scoped>\n",
       "    .dataframe tbody tr th:only-of-type {\n",
       "        vertical-align: middle;\n",
       "    }\n",
       "\n",
       "    .dataframe tbody tr th {\n",
       "        vertical-align: top;\n",
       "    }\n",
       "\n",
       "    .dataframe thead th {\n",
       "        text-align: right;\n",
       "    }\n",
       "</style>\n",
       "<table border=\"1\" class=\"dataframe\">\n",
       "  <thead>\n",
       "    <tr style=\"text-align: right;\">\n",
       "      <th></th>\n",
       "      <th>Unnamed: 0</th>\n",
       "      <th>id</th>\n",
       "      <th>class</th>\n",
       "      <th>prod_smiles</th>\n",
       "      <th>reactants_can</th>\n",
       "      <th>split</th>\n",
       "      <th>reaction_smarts</th>\n",
       "      <th>label</th>\n",
       "      <th>time_split</th>\n",
       "      <th>year</th>\n",
       "      <th>time_split_years</th>\n",
       "      <th>ReactionSmiles</th>\n",
       "      <th>PatentNumber</th>\n",
       "      <th>ParagraphNum</th>\n",
       "      <th>Year</th>\n",
       "      <th>TextMinedYield</th>\n",
       "      <th>CalculatedYield</th>\n",
       "    </tr>\n",
       "  </thead>\n",
       "  <tbody>\n",
       "    <tr>\n",
       "      <th>4223849</th>\n",
       "      <td>34486</td>\n",
       "      <td>US20140194408A1</td>\n",
       "      <td>2</td>\n",
       "      <td>CC1(C)Cc2cc3n(c2C1)CCNC3=O</td>\n",
       "      <td>CC1(C)Cc2cc(C(=O)O)n(CCN)c2C1</td>\n",
       "      <td>train</td>\n",
       "      <td>[#7;a:4]:[c:3]-[C;H0;D3;+0:1](=[O;D1;H0:2])-[N...</td>\n",
       "      <td>647</td>\n",
       "      <td>test</td>\n",
       "      <td>2014.0</td>\n",
       "      <td>test</td>\n",
       "      <td>Br[C:2]1[CH:3]=[C:4]([NH:10][C:11]2[N:12]=[N:1...</td>\n",
       "      <td>US20140194408A1</td>\n",
       "      <td>1232</td>\n",
       "      <td>2014</td>\n",
       "      <td>37%</td>\n",
       "      <td>37.3%</td>\n",
       "    </tr>\n",
       "    <tr>\n",
       "      <th>177847</th>\n",
       "      <td>22138</td>\n",
       "      <td>US20100234351A1</td>\n",
       "      <td>6</td>\n",
       "      <td>CS(=O)(=O)CCNC1CC1</td>\n",
       "      <td>CC(C)(C)OC(=O)N(CCS(C)(=O)=O)C1CC1</td>\n",
       "      <td>train</td>\n",
       "      <td>[C:2]-[NH;D2;+0:1]-[C:3]&gt;&gt;C-C(-C)(-C)-O-C(=O)-...</td>\n",
       "      <td>2</td>\n",
       "      <td>test</td>\n",
       "      <td>2010.0</td>\n",
       "      <td>train</td>\n",
       "      <td>[OH:1][CH2:2][CH2:3][O:4][CH:5]([CH3:15])[CH2:...</td>\n",
       "      <td>US20100234351A1</td>\n",
       "      <td>1380</td>\n",
       "      <td>2010</td>\n",
       "      <td>NaN</td>\n",
       "      <td>NaN</td>\n",
       "    </tr>\n",
       "    <tr>\n",
       "      <th>272005</th>\n",
       "      <td>17098</td>\n",
       "      <td>US20090221555A1</td>\n",
       "      <td>1</td>\n",
       "      <td>NC(=O)c1cccc(F)c1Nc1nc(Cl)ncc1Cl</td>\n",
       "      <td>Clc1ncc(Cl)c(Cl)n1.NC(=O)c1cccc(F)c1N</td>\n",
       "      <td>train</td>\n",
       "      <td>[c:8]-[NH;D2;+0:7]-[c;H0;D3;+0:1]1:[#7;a:2]:[c...</td>\n",
       "      <td>334</td>\n",
       "      <td>test</td>\n",
       "      <td>2009.0</td>\n",
       "      <td>train</td>\n",
       "      <td>[NH2:1][C:2]1[C:3]([O:21][CH3:22])=[CH:4][C:5]...</td>\n",
       "      <td>US20090221555A1</td>\n",
       "      <td>4762</td>\n",
       "      <td>2009</td>\n",
       "      <td>NaN</td>\n",
       "      <td>NaN</td>\n",
       "    </tr>\n",
       "    <tr>\n",
       "      <th>4077259</th>\n",
       "      <td>43037</td>\n",
       "      <td>US20100249124A1</td>\n",
       "      <td>1</td>\n",
       "      <td>CC(c1ccc(Oc2ccc(C#N)cc2F)cc1Cl)C(O)(c1ccc2c(c1...</td>\n",
       "      <td>CC(c1ccc(O)cc1Cl)C(O)(c1ccc2c(c1)n(C)c(=O)n2C)...</td>\n",
       "      <td>valid</td>\n",
       "      <td>[c:5]-[O;H0;D2;+0:4]-[c;H0;D3;+0:1](:[c:2]):[c...</td>\n",
       "      <td>131</td>\n",
       "      <td>test</td>\n",
       "      <td>2010.0</td>\n",
       "      <td>train</td>\n",
       "      <td>Br[C:2]1[CH:7]=[CH:6][C:5]([CH:8]([CH3:28])[C:...</td>\n",
       "      <td>US20100249124A1</td>\n",
       "      <td>549</td>\n",
       "      <td>2010</td>\n",
       "      <td>NaN</td>\n",
       "      <td>NaN</td>\n",
       "    </tr>\n",
       "    <tr>\n",
       "      <th>1611628</th>\n",
       "      <td>2795</td>\n",
       "      <td>US08415370B2</td>\n",
       "      <td>1</td>\n",
       "      <td>Cn1c(=O)oc2cc3c(cc21)OCC31C(=O)N(Cc2ccc(C(F)(F...</td>\n",
       "      <td>Cn1c(=O)oc2cc3c(cc21)OCC31C(=O)Nc2ccccc21.FC(F...</td>\n",
       "      <td>train</td>\n",
       "      <td>[#8;a:3]:[c:2]-[CH2;D2;+0:1]-[N;H0;D3;+0:6](-[...</td>\n",
       "      <td>1277</td>\n",
       "      <td>test</td>\n",
       "      <td>2013.0</td>\n",
       "      <td>valid</td>\n",
       "      <td>Br[C:2]1[CH:10]=[CH:9][CH:8]=[C:7]2[C:3]=1[C:4...</td>\n",
       "      <td>US08415370B2</td>\n",
       "      <td>1688</td>\n",
       "      <td>2013</td>\n",
       "      <td>35%</td>\n",
       "      <td>35.2%</td>\n",
       "    </tr>\n",
       "  </tbody>\n",
       "</table>\n",
       "</div>"
      ],
      "text/plain": [
       "         Unnamed: 0               id  class  \\\n",
       "4223849       34486  US20140194408A1      2   \n",
       "177847        22138  US20100234351A1      6   \n",
       "272005        17098  US20090221555A1      1   \n",
       "4077259       43037  US20100249124A1      1   \n",
       "1611628        2795     US08415370B2      1   \n",
       "\n",
       "                                               prod_smiles  \\\n",
       "4223849                         CC1(C)Cc2cc3n(c2C1)CCNC3=O   \n",
       "177847                                  CS(=O)(=O)CCNC1CC1   \n",
       "272005                    NC(=O)c1cccc(F)c1Nc1nc(Cl)ncc1Cl   \n",
       "4077259  CC(c1ccc(Oc2ccc(C#N)cc2F)cc1Cl)C(O)(c1ccc2c(c1...   \n",
       "1611628  Cn1c(=O)oc2cc3c(cc21)OCC31C(=O)N(Cc2ccc(C(F)(F...   \n",
       "\n",
       "                                             reactants_can  split  \\\n",
       "4223849                      CC1(C)Cc2cc(C(=O)O)n(CCN)c2C1  train   \n",
       "177847                  CC(C)(C)OC(=O)N(CCS(C)(=O)=O)C1CC1  train   \n",
       "272005               Clc1ncc(Cl)c(Cl)n1.NC(=O)c1cccc(F)c1N  train   \n",
       "4077259  CC(c1ccc(O)cc1Cl)C(O)(c1ccc2c(c1)n(C)c(=O)n2C)...  valid   \n",
       "1611628  Cn1c(=O)oc2cc3c(cc21)OCC31C(=O)Nc2ccccc21.FC(F...  train   \n",
       "\n",
       "                                           reaction_smarts  label time_split  \\\n",
       "4223849  [#7;a:4]:[c:3]-[C;H0;D3;+0:1](=[O;D1;H0:2])-[N...    647       test   \n",
       "177847   [C:2]-[NH;D2;+0:1]-[C:3]>>C-C(-C)(-C)-O-C(=O)-...      2       test   \n",
       "272005   [c:8]-[NH;D2;+0:7]-[c;H0;D3;+0:1]1:[#7;a:2]:[c...    334       test   \n",
       "4077259  [c:5]-[O;H0;D2;+0:4]-[c;H0;D3;+0:1](:[c:2]):[c...    131       test   \n",
       "1611628  [#8;a:3]:[c:2]-[CH2;D2;+0:1]-[N;H0;D3;+0:6](-[...   1277       test   \n",
       "\n",
       "           year time_split_years  \\\n",
       "4223849  2014.0             test   \n",
       "177847   2010.0            train   \n",
       "272005   2009.0            train   \n",
       "4077259  2010.0            train   \n",
       "1611628  2013.0            valid   \n",
       "\n",
       "                                            ReactionSmiles     PatentNumber  \\\n",
       "4223849  Br[C:2]1[CH:3]=[C:4]([NH:10][C:11]2[N:12]=[N:1...  US20140194408A1   \n",
       "177847   [OH:1][CH2:2][CH2:3][O:4][CH:5]([CH3:15])[CH2:...  US20100234351A1   \n",
       "272005   [NH2:1][C:2]1[C:3]([O:21][CH3:22])=[CH:4][C:5]...  US20090221555A1   \n",
       "4077259  Br[C:2]1[CH:7]=[CH:6][C:5]([CH:8]([CH3:28])[C:...  US20100249124A1   \n",
       "1611628  Br[C:2]1[CH:10]=[CH:9][CH:8]=[C:7]2[C:3]=1[C:4...     US08415370B2   \n",
       "\n",
       "        ParagraphNum  Year TextMinedYield CalculatedYield  \n",
       "4223849         1232  2014            37%           37.3%  \n",
       "177847          1380  2010            NaN             NaN  \n",
       "272005          4762  2009            NaN             NaN  \n",
       "4077259          549  2010            NaN             NaN  \n",
       "1611628         1688  2013            35%           35.2%  "
      ]
     },
     "execution_count": 19,
     "metadata": {},
     "output_type": "execute_result"
    }
   ],
   "source": [
    "df_cd.sample(5)"
   ]
  },
  {
   "cell_type": "code",
   "execution_count": 20,
   "metadata": {},
   "outputs": [],
   "source": [
    "# patentNumber 2 year\n",
    "pn2year = df.groupby('PatentNumber')['Year'].max().to_dict()"
   ]
  },
  {
   "cell_type": "code",
   "execution_count": 21,
   "metadata": {},
   "outputs": [
    {
     "data": {
      "text/plain": [
       "0"
      ]
     },
     "execution_count": 21,
     "metadata": {},
     "output_type": "execute_result"
    }
   ],
   "source": [
    "(df.groupby('PatentNumber')['Year'].var()>0).sum() # they agree"
   ]
  },
  {
   "cell_type": "code",
   "execution_count": 22,
   "metadata": {},
   "outputs": [],
   "source": [
    "rem = 3\n",
    "pn2year_fuzzy = {k[2:-rem]:v for k,v in pn2year.items()}\n",
    "df_50k['Year'] = df_50k['id'].apply(lambda k: pn2year.get(k, pn2year_fuzzy.get(str(k[:-rem]),None)))"
   ]
  },
  {
   "cell_type": "code",
   "execution_count": 23,
   "metadata": {},
   "outputs": [
    {
     "data": {
      "text/plain": [
       "0.012755918106206014"
      ]
     },
     "execution_count": 23,
     "metadata": {},
     "output_type": "execute_result"
    }
   ],
   "source": [
    "import numpy as np\n",
    "df_50k['Year'].isna().mean()"
   ]
  },
  {
   "cell_type": "code",
   "execution_count": 24,
   "metadata": {},
   "outputs": [
    {
     "data": {
      "text/plain": [
       "638"
      ]
     },
     "execution_count": 24,
     "metadata": {},
     "output_type": "execute_result"
    }
   ],
   "source": [
    "df_50k['Year'].isna().sum()"
   ]
  },
  {
   "cell_type": "code",
   "execution_count": 25,
   "metadata": {},
   "outputs": [],
   "source": [
    "# couldn't find the year for 1.2% or 19 samples"
   ]
  },
  {
   "cell_type": "code",
   "execution_count": 26,
   "metadata": {},
   "outputs": [
    {
     "data": {
      "text/plain": [
       "4        7229987\n",
       "59       0027050\n",
       "70       0291227\n",
       "95       7951806\n",
       "138       055978\n",
       "          ...   \n",
       "49580    0122234\n",
       "49650    0222326\n",
       "49752    0018134\n",
       "49920    0107109\n",
       "49980    0062272\n",
       "Name: id, Length: 638, dtype: object"
      ]
     },
     "execution_count": 26,
     "metadata": {},
     "output_type": "execute_result"
    }
   ],
   "source": [
    "df_50k[df_50k['Year'].isna()]['id'].apply(lambda k: k[2:-2][-7:])"
   ]
  },
  {
   "cell_type": "code",
   "execution_count": 27,
   "metadata": {},
   "outputs": [],
   "source": [
    "pn2year_fuzzy2 = {k[2:-2][-7:]:v for k,v in pn2year.items()}"
   ]
  },
  {
   "cell_type": "code",
   "execution_count": 28,
   "metadata": {},
   "outputs": [
    {
     "data": {
      "text/plain": [
       "4           US07229987B2\n",
       "59       US20080027050A1\n",
       "70       US20130291227A1\n",
       "95          US07951806B2\n",
       "138           US05597818\n",
       "              ...       \n",
       "49580    US20060122234A1\n",
       "49650    US20100222326A1\n",
       "49752    US20090018134A1\n",
       "49920    US20140107109A1\n",
       "49980    US20090062272A1\n",
       "Name: id, Length: 638, dtype: object"
      ]
     },
     "execution_count": 28,
     "metadata": {},
     "output_type": "execute_result"
    }
   ],
   "source": [
    "df_50k[df_50k['Year'].isna()]['id']"
   ]
  },
  {
   "cell_type": "code",
   "execution_count": 29,
   "metadata": {},
   "outputs": [
    {
     "data": {
      "text/plain": [
       "Year\n",
       "1976                         {USRE0, US040, US039}\n",
       "1977                                {USRE0, US040}\n",
       "1978                         {USRE0, US041, US040}\n",
       "1979                                {USRE0, US041}\n",
       "1980                         {USRE0, US041, US042}\n",
       "1981                         {USRE0, US043, US042}\n",
       "1982                                {USRE0, US043}\n",
       "1983                         {USRE0, US043, US044}\n",
       "1984                                {USRE0, US044}\n",
       "1985                         {US045, USRE0, US044}\n",
       "1986                  {US046, USRE0, USH00, US045}\n",
       "1987                  {US046, USRE0, US047, USH00}\n",
       "1988                         {US047, USRE0, USH00}\n",
       "1989                  {US047, USRE0, USH00, US048}\n",
       "1990                  {USRE0, US049, USH00, US048}\n",
       "1991                  {US050, USRE0, USH00, US049}\n",
       "1992                         {US051, USRE0, US050}\n",
       "1993                  {US051, USH00, USRE0, US052}\n",
       "1994                  {USRE0, US053, USH00, US052}\n",
       "1995                  {USRE0, US053, USH00, US054}\n",
       "1996                  {USRE0, USH00, US054, US055}\n",
       "1997           {USH00, US056, USRE0, US055, US057}\n",
       "1998                  {US058, USRE0, US057, USH00}\n",
       "1999           {US058, USH00, USRE0, US060, US059}\n",
       "2000                         {USRE0, US061, US060}\n",
       "2001    {USH00, US200, USRE0, US063, US061, US062}\n",
       "2002           {US200, USRE0, US064, US065, US063}\n",
       "2003                  {USRE0, US066, US065, US200}\n",
       "2004           {US200, US066, USRE0, US068, US067}\n",
       "2005                  {US068, US069, USRE0, US200}\n",
       "2006           {US200, US070, USRE0, US069, US071}\n",
       "2007           {US200, US073, USRE0, US072, US071}\n",
       "2008                  {US200, USRE0, US074, US073}\n",
       "2009           {US074, US200, USRE0, US076, US075}\n",
       "2010           {US078, USRE0, US076, US077, US201}\n",
       "2011    {USH00, US078, USRE0, US080, US079, US201}\n",
       "2012    {US081, USRE0, US080, US083, US082, US201}\n",
       "2013    {US201, US084, USRE0, US083, US085, US086}\n",
       "2014    {US201, US089, USRE0, US087, US088, US086}\n",
       "2015    {US090, US089, USRE0, US092, US091, US201}\n",
       "2016           {US094, USRE0, US093, US092, US201}\n",
       "Name: PatentNumber, dtype: object"
      ]
     },
     "execution_count": 29,
     "metadata": {},
     "output_type": "execute_result"
    }
   ],
   "source": [
    "df.groupby('Year')['PatentNumber'].apply(lambda k: set([i[:5] for i in k]))"
   ]
  },
  {
   "cell_type": "code",
   "execution_count": 30,
   "metadata": {},
   "outputs": [
    {
     "data": {
      "text/plain": [
       "4           NaN\n",
       "59          NaN\n",
       "70          NaN\n",
       "95          NaN\n",
       "138      1997.0\n",
       "          ...  \n",
       "49580    2004.0\n",
       "49650       NaN\n",
       "49752    2007.0\n",
       "49920       NaN\n",
       "49980       NaN\n",
       "Name: id, Length: 638, dtype: float64"
      ]
     },
     "execution_count": 30,
     "metadata": {},
     "output_type": "execute_result"
    }
   ],
   "source": [
    "df_50k[df_50k['Year'].isna()]['id'].apply(lambda k: pn2year_fuzzy2.get(k[2:-2][-7:], None))"
   ]
  },
  {
   "cell_type": "code",
   "execution_count": 31,
   "metadata": {},
   "outputs": [],
   "source": [
    "df_50k['year'] = df_50k['Year'].apply(lambda k: k if pd.isna(k) else int(k))"
   ]
  },
  {
   "cell_type": "code",
   "execution_count": 32,
   "metadata": {},
   "outputs": [],
   "source": [
    "df_50k.sort_values('Year').iloc[:int(len(df_50k)*.8)]['time_split'] = 'train'"
   ]
  },
  {
   "cell_type": "code",
   "execution_count": 33,
   "metadata": {},
   "outputs": [],
   "source": [
    "df_50k = df_50k.sort_values('Year')"
   ]
  },
  {
   "cell_type": "code",
   "execution_count": 34,
   "metadata": {},
   "outputs": [],
   "source": [
    "train_frac, val_frac, test_frac = .8, .1, .1\n",
    "N = len(df_50k)\n",
    "train_end = int((1.0 - val_frac - test_frac) * N)\n",
    "val_end = int((1.0 - test_frac) * N)"
   ]
  },
  {
   "cell_type": "code",
   "execution_count": 35,
   "metadata": {},
   "outputs": [],
   "source": [
    "df_50k.at[:train_end, 'time_split'] =  'train'\n",
    "df_50k.at[train_end:val_end, 'time_split'] =  'valid'\n",
    "df_50k.at[val_end:, 'time_split'] =  'test'"
   ]
  },
  {
   "cell_type": "code",
   "execution_count": 36,
   "metadata": {},
   "outputs": [
    {
     "data": {
      "text/plain": [
       "[<matplotlib.lines.Line2D at 0x7f859b1f1f90>]"
      ]
     },
     "execution_count": 36,
     "metadata": {},
     "output_type": "execute_result"
    },
    {
     "data": {
      "image/png": "[encoded data removed]",
      "text/plain": [
       "<Figure size 432x288 with 1 Axes>"
      ]
     },
     "metadata": {
      "image/png": {
       "height": 248,
       "width": 386
      },
      "needs_background": "light"
     },
     "output_type": "display_data"
    }
   ],
   "source": [
    "import matplotlib.pyplot as plt\n",
    "plt.plot(df_50k.Year.values)"
   ]
  },
  {
   "cell_type": "code",
   "execution_count": 37,
   "metadata": {},
   "outputs": [
    {
     "data": {
      "text/plain": [
       "year\n",
       "1976.0    0.006078\n",
       "1977.0    0.011936\n",
       "1978.0    0.016535\n",
       "1979.0    0.020114\n",
       "1980.0    0.024012\n",
       "1981.0    0.028331\n",
       "1982.0    0.032670\n",
       "1983.0    0.036408\n",
       "1984.0    0.040247\n",
       "1985.0    0.045345\n",
       "1986.0    0.050284\n",
       "1987.0    0.055742\n",
       "1988.0    0.062080\n",
       "1989.0    0.069838\n",
       "1990.0    0.077395\n",
       "1991.0    0.084993\n",
       "1992.0    0.092151\n",
       "1993.0    0.100768\n",
       "1994.0    0.108265\n",
       "1995.0    0.115823\n",
       "1996.0    0.124340\n",
       "1997.0    0.136636\n",
       "1998.0    0.148832\n",
       "1999.0    0.161688\n",
       "2000.0    0.175364\n",
       "2001.0    0.192798\n",
       "2002.0    0.218810\n",
       "2003.0    0.245861\n",
       "2004.0    0.282270\n",
       "2005.0    0.319778\n",
       "2006.0    0.364803\n",
       "2007.0    0.414227\n",
       "2008.0    0.466331\n",
       "2009.0    0.541107\n",
       "2010.0    0.620481\n",
       "2011.0    0.693118\n",
       "2012.0    0.770673\n",
       "2013.0    0.840991\n",
       "2014.0    0.910149\n",
       "2015.0    0.987244\n",
       "Name: id, dtype: float64"
      ]
     },
     "execution_count": 37,
     "metadata": {},
     "output_type": "execute_result"
    }
   ],
   "source": [
    "df_50k.groupby('year').count()['id'].cumsum()/len(df_50k)"
   ]
  },
  {
   "cell_type": "code",
   "execution_count": 38,
   "metadata": {},
   "outputs": [],
   "source": [
    "df_50k.at[(df_50k['year']<=2012), 'time_split_years'] =  'train'"
   ]
  },
  {
   "cell_type": "code",
   "execution_count": 39,
   "metadata": {},
   "outputs": [],
   "source": [
    "df_50k.at[(df_50k['year']==2013), 'time_split_years'] =  'valid'"
   ]
  },
  {
   "cell_type": "code",
   "execution_count": 40,
   "metadata": {},
   "outputs": [],
   "source": [
    "df_50k.at[(df_50k['year']>2013), 'time_split_years'] =  'test'"
   ]
  },
  {
   "cell_type": "code",
   "execution_count": 49,
   "metadata": {},
   "outputs": [],
   "source": [
    "df_50k.at[(df_50k['year'].isna()), 'time_split_years'] = 'nan'"
   ]
  },
  {
   "cell_type": "code",
   "execution_count": 50,
   "metadata": {},
   "outputs": [
    {
     "data": {
      "text/plain": [
       "time_split_years\n",
       "nan      0.012756\n",
       "test     0.146253\n",
       "train    0.770673\n",
       "valid    0.070317\n",
       "Name: id, dtype: float64"
      ]
     },
     "execution_count": 50,
     "metadata": {},
     "output_type": "execute_result"
    }
   ],
   "source": [
    "df_50k.groupby('time_split_years').count()['id']/len(df_50k)"
   ]
  },
  {
   "cell_type": "code",
   "execution_count": 51,
   "metadata": {},
   "outputs": [],
   "source": [
    "# gater also "
   ]
  },
  {
   "cell_type": "code",
   "execution_count": 54,
   "metadata": {},
   "outputs": [],
   "source": [
    "# all the relevant data is now in here\n",
    "df_rel = df_50k[['id','class','prod_smiles','reactants_can','split', 'reaction_smarts', 'label', 'time_split','year','time_split_years']]"
   ]
  },
  {
   "cell_type": "code",
   "execution_count": 55,
   "metadata": {},
   "outputs": [],
   "source": [
    "df_rel = df_rel.sort_index()"
   ]
  },
  {
   "cell_type": "code",
   "execution_count": 56,
   "metadata": {},
   "outputs": [],
   "source": [
    "df_rel.to_csv('./data/USPTO_50k_MHN_prepro_recre_time.csv.gz')"
   ]
  },
  {
   "cell_type": "code",
   "execution_count": 57,
   "metadata": {},
   "outputs": [
    {
     "data": {
      "text/html": [
       "<div>\n",
       "<style scoped>\n",
       "    .dataframe tbody tr th:only-of-type {\n",
       "        vertical-align: middle;\n",
       "    }\n",
       "\n",
       "    .dataframe tbody tr th {\n",
       "        vertical-align: top;\n",
       "    }\n",
       "\n",
       "    .dataframe thead th {\n",
       "        text-align: right;\n",
       "    }\n",
       "</style>\n",
       "<table border=\"1\" class=\"dataframe\">\n",
       "  <thead>\n",
       "    <tr style=\"text-align: right;\">\n",
       "      <th></th>\n",
       "      <th>id</th>\n",
       "      <th>class</th>\n",
       "      <th>prod_smiles</th>\n",
       "      <th>reactants_can</th>\n",
       "      <th>split</th>\n",
       "      <th>reaction_smarts</th>\n",
       "      <th>label</th>\n",
       "      <th>time_split</th>\n",
       "      <th>year</th>\n",
       "      <th>time_split_years</th>\n",
       "    </tr>\n",
       "  </thead>\n",
       "  <tbody>\n",
       "    <tr>\n",
       "      <th>0</th>\n",
       "      <td>US20100317582A1</td>\n",
       "      <td>1</td>\n",
       "      <td>C[C@@H](NC1CCCC(c2ccccn2)C1)c1cccc2ccccc12</td>\n",
       "      <td>C[C@@H](N)c1cccc2ccccc12.O=C1CCCC(c2ccccn2)C1</td>\n",
       "      <td>train</td>\n",
       "      <td>[C:2]-[CH;D3;+0:1](-[C:3])-[NH;D2;+0:5]-[C:4]&gt;...</td>\n",
       "      <td>0</td>\n",
       "      <td>test</td>\n",
       "      <td>2010.0</td>\n",
       "      <td>train</td>\n",
       "    </tr>\n",
       "    <tr>\n",
       "      <th>1</th>\n",
       "      <td>US05932582</td>\n",
       "      <td>1</td>\n",
       "      <td>Cc1cc(OCC(N)=O)ccc1NC(=O)OC(C)(C)C</td>\n",
       "      <td>Cc1cc(O)ccc1NC(=O)OC(C)(C)C.NC(=O)CBr</td>\n",
       "      <td>train</td>\n",
       "      <td>[N;D1;H2:3]-[C:2](=[O;D1;H0:4])-[CH2;D2;+0:1]-...</td>\n",
       "      <td>1</td>\n",
       "      <td>valid</td>\n",
       "      <td>1999.0</td>\n",
       "      <td>train</td>\n",
       "    </tr>\n",
       "    <tr>\n",
       "      <th>2</th>\n",
       "      <td>US05266570</td>\n",
       "      <td>7</td>\n",
       "      <td>Nc1cnc(NC2CCN(CC34CC(c5ccccc53)c3ccccc34)CC2)nc1N</td>\n",
       "      <td>Nc1nc(NC2CCN(CC34CC(c5ccccc53)c3ccccc34)CC2)nc...</td>\n",
       "      <td>train</td>\n",
       "      <td>[#7;a:4]:[c:3]:[c:2](-[NH2;D1;+0:1]):[c:5]:[#7...</td>\n",
       "      <td>624</td>\n",
       "      <td>valid</td>\n",
       "      <td>1993.0</td>\n",
       "      <td>train</td>\n",
       "    </tr>\n",
       "    <tr>\n",
       "      <th>3</th>\n",
       "      <td>US20080181866A1</td>\n",
       "      <td>6</td>\n",
       "      <td>O=C(O)C1CS[C@H](C2CCCNC2)N1C(=O)OCc1ccccc1</td>\n",
       "      <td>CC(C)(C)OC(=O)N1CCCC([C@H]2SCC(C(=O)O)N2C(=O)O...</td>\n",
       "      <td>train</td>\n",
       "      <td>[C:2]-[NH;D2;+0:1]-[C:3]&gt;&gt;C-C(-C)(-C)-O-C(=O)-...</td>\n",
       "      <td>2</td>\n",
       "      <td>test</td>\n",
       "      <td>2008.0</td>\n",
       "      <td>train</td>\n",
       "    </tr>\n",
       "    <tr>\n",
       "      <th>4</th>\n",
       "      <td>US07229987B2</td>\n",
       "      <td>7</td>\n",
       "      <td>CN(C)CCCOc1ccc(N)cc1</td>\n",
       "      <td>CN(C)CCCOc1ccc([N+](=O)[O-])cc1</td>\n",
       "      <td>train</td>\n",
       "      <td>[NH2;D1;+0:1]-[c:2]&gt;&gt;O=[N+;H0;D3:1](-[O-])-[c:2]</td>\n",
       "      <td>3</td>\n",
       "      <td>test</td>\n",
       "      <td>NaN</td>\n",
       "      <td>nan</td>\n",
       "    </tr>\n",
       "    <tr>\n",
       "      <th>...</th>\n",
       "      <td>...</td>\n",
       "      <td>...</td>\n",
       "      <td>...</td>\n",
       "      <td>...</td>\n",
       "      <td>...</td>\n",
       "      <td>...</td>\n",
       "      <td>...</td>\n",
       "      <td>...</td>\n",
       "      <td>...</td>\n",
       "      <td>...</td>\n",
       "    </tr>\n",
       "    <tr>\n",
       "      <th>50011</th>\n",
       "      <td>US08232289B2</td>\n",
       "      <td>1</td>\n",
       "      <td>Cc1nn(-c2ncccc2C#N)cc1C=O</td>\n",
       "      <td>Cc1n[nH]cc1C=O.N#Cc1cccnc1F</td>\n",
       "      <td>test</td>\n",
       "      <td>[#7;a:4]:[n;H0;D3;+0:5](:[c:6])-[c;H0;D3;+0:1]...</td>\n",
       "      <td>6102</td>\n",
       "      <td>test</td>\n",
       "      <td>2012.0</td>\n",
       "      <td>train</td>\n",
       "    </tr>\n",
       "    <tr>\n",
       "      <th>50012</th>\n",
       "      <td>US04093715</td>\n",
       "      <td>2</td>\n",
       "      <td>Cc1ccc(S(=O)(=O)OC[C@H]2O[C@@H](n3cc(I)c(N)nc3...</td>\n",
       "      <td>Cc1ccc(S(=O)(=O)Cl)cc1.Nc1nc(=O)n([C@H]2C[C@H]...</td>\n",
       "      <td>test</td>\n",
       "      <td>[C:5]-[O;H0;D2;+0:6]-[S;H0;D4;+0:1](=[O;D1;H0:...</td>\n",
       "      <td>65</td>\n",
       "      <td>train</td>\n",
       "      <td>1978.0</td>\n",
       "      <td>train</td>\n",
       "    </tr>\n",
       "    <tr>\n",
       "      <th>50013</th>\n",
       "      <td>US20110082164A1</td>\n",
       "      <td>3</td>\n",
       "      <td>Clc1cccc(-c2cncc(Br)c2)c1</td>\n",
       "      <td>Brc1cncc(Br)c1.OB(O)c1cccc(Cl)c1</td>\n",
       "      <td>test</td>\n",
       "      <td>[#7;a:4]:[c:3]:[c;H0;D3;+0:1](:[c:2])-[c;H0;D3...</td>\n",
       "      <td>435</td>\n",
       "      <td>test</td>\n",
       "      <td>2011.0</td>\n",
       "      <td>train</td>\n",
       "    </tr>\n",
       "    <tr>\n",
       "      <th>50014</th>\n",
       "      <td>US20110312974A1</td>\n",
       "      <td>1</td>\n",
       "      <td>CCNCc1cc(C(F)(F)F)ccc1-c1c(C)nn(CC(=O)OCC)c1C</td>\n",
       "      <td>CCN.CCOC(=O)Cn1nc(C)c(-c2ccc(C(F)(F)F)cc2C=O)c1C</td>\n",
       "      <td>test</td>\n",
       "      <td>[C:3]-[NH;D2;+0:4]-[CH2;D2;+0:1]-[c:2]&gt;&gt;O=[CH;...</td>\n",
       "      <td>127</td>\n",
       "      <td>test</td>\n",
       "      <td>2011.0</td>\n",
       "      <td>train</td>\n",
       "    </tr>\n",
       "    <tr>\n",
       "      <th>50015</th>\n",
       "      <td>US20120046418A1</td>\n",
       "      <td>1</td>\n",
       "      <td>CCOC(=O)CCCCCOc1ccc2ccccc2c1C=O</td>\n",
       "      <td>CCOC(=O)CCCCCBr.O=Cc1c(O)ccc2ccccc12</td>\n",
       "      <td>test</td>\n",
       "      <td>[C:2]-[CH2;D2;+0:1]-[O;H0;D2;+0:3]-[c:4]&gt;&gt;Br-[...</td>\n",
       "      <td>87</td>\n",
       "      <td>test</td>\n",
       "      <td>2012.0</td>\n",
       "      <td>train</td>\n",
       "    </tr>\n",
       "  </tbody>\n",
       "</table>\n",
       "<p>50016 rows × 10 columns</p>\n",
       "</div>"
      ],
      "text/plain": [
       "                    id  class  \\\n",
       "0      US20100317582A1      1   \n",
       "1           US05932582      1   \n",
       "2           US05266570      7   \n",
       "3      US20080181866A1      6   \n",
       "4         US07229987B2      7   \n",
       "...                ...    ...   \n",
       "50011     US08232289B2      1   \n",
       "50012       US04093715      2   \n",
       "50013  US20110082164A1      3   \n",
       "50014  US20110312974A1      1   \n",
       "50015  US20120046418A1      1   \n",
       "\n",
       "                                             prod_smiles  \\\n",
       "0             C[C@@H](NC1CCCC(c2ccccn2)C1)c1cccc2ccccc12   \n",
       "1                     Cc1cc(OCC(N)=O)ccc1NC(=O)OC(C)(C)C   \n",
       "2      Nc1cnc(NC2CCN(CC34CC(c5ccccc53)c3ccccc34)CC2)nc1N   \n",
       "3             O=C(O)C1CS[C@H](C2CCCNC2)N1C(=O)OCc1ccccc1   \n",
       "4                                   CN(C)CCCOc1ccc(N)cc1   \n",
       "...                                                  ...   \n",
       "50011                          Cc1nn(-c2ncccc2C#N)cc1C=O   \n",
       "50012  Cc1ccc(S(=O)(=O)OC[C@H]2O[C@@H](n3cc(I)c(N)nc3...   \n",
       "50013                          Clc1cccc(-c2cncc(Br)c2)c1   \n",
       "50014      CCNCc1cc(C(F)(F)F)ccc1-c1c(C)nn(CC(=O)OCC)c1C   \n",
       "50015                    CCOC(=O)CCCCCOc1ccc2ccccc2c1C=O   \n",
       "\n",
       "                                           reactants_can  split  \\\n",
       "0          C[C@@H](N)c1cccc2ccccc12.O=C1CCCC(c2ccccn2)C1  train   \n",
       "1                  Cc1cc(O)ccc1NC(=O)OC(C)(C)C.NC(=O)CBr  train   \n",
       "2      Nc1nc(NC2CCN(CC34CC(c5ccccc53)c3ccccc34)CC2)nc...  train   \n",
       "3      CC(C)(C)OC(=O)N1CCCC([C@H]2SCC(C(=O)O)N2C(=O)O...  train   \n",
       "4                        CN(C)CCCOc1ccc([N+](=O)[O-])cc1  train   \n",
       "...                                                  ...    ...   \n",
       "50011                        Cc1n[nH]cc1C=O.N#Cc1cccnc1F   test   \n",
       "50012  Cc1ccc(S(=O)(=O)Cl)cc1.Nc1nc(=O)n([C@H]2C[C@H]...   test   \n",
       "50013                   Brc1cncc(Br)c1.OB(O)c1cccc(Cl)c1   test   \n",
       "50014   CCN.CCOC(=O)Cn1nc(C)c(-c2ccc(C(F)(F)F)cc2C=O)c1C   test   \n",
       "50015               CCOC(=O)CCCCCBr.O=Cc1c(O)ccc2ccccc12   test   \n",
       "\n",
       "                                         reaction_smarts  label time_split  \\\n",
       "0      [C:2]-[CH;D3;+0:1](-[C:3])-[NH;D2;+0:5]-[C:4]>...      0       test   \n",
       "1      [N;D1;H2:3]-[C:2](=[O;D1;H0:4])-[CH2;D2;+0:1]-...      1      valid   \n",
       "2      [#7;a:4]:[c:3]:[c:2](-[NH2;D1;+0:1]):[c:5]:[#7...    624      valid   \n",
       "3      [C:2]-[NH;D2;+0:1]-[C:3]>>C-C(-C)(-C)-O-C(=O)-...      2       test   \n",
       "4       [NH2;D1;+0:1]-[c:2]>>O=[N+;H0;D3:1](-[O-])-[c:2]      3       test   \n",
       "...                                                  ...    ...        ...   \n",
       "50011  [#7;a:4]:[n;H0;D3;+0:5](:[c:6])-[c;H0;D3;+0:1]...   6102       test   \n",
       "50012  [C:5]-[O;H0;D2;+0:6]-[S;H0;D4;+0:1](=[O;D1;H0:...     65      train   \n",
       "50013  [#7;a:4]:[c:3]:[c;H0;D3;+0:1](:[c:2])-[c;H0;D3...    435       test   \n",
       "50014  [C:3]-[NH;D2;+0:4]-[CH2;D2;+0:1]-[c:2]>>O=[CH;...    127       test   \n",
       "50015  [C:2]-[CH2;D2;+0:1]-[O;H0;D2;+0:3]-[c:4]>>Br-[...     87       test   \n",
       "\n",
       "         year time_split_years  \n",
       "0      2010.0            train  \n",
       "1      1999.0            train  \n",
       "2      1993.0            train  \n",
       "3      2008.0            train  \n",
       "4         NaN              nan  \n",
       "...       ...              ...  \n",
       "50011  2012.0            train  \n",
       "50012  1978.0            train  \n",
       "50013  2011.0            train  \n",
       "50014  2011.0            train  \n",
       "50015  2012.0            train  \n",
       "\n",
       "[50016 rows x 10 columns]"
      ]
     },
     "execution_count": 57,
     "metadata": {},
     "output_type": "execute_result"
    }
   ],
   "source": [
    "df_rel"
   ]
  },
  {
   "cell_type": "code",
   "execution_count": null,
   "metadata": {},
   "outputs": [],
   "source": []
  }
 ],
 "metadata": {
  "kernelspec": {
   "display_name": "Python 3",
   "language": "python",
   "name": "python3"
  },
  "language_info": {
   "codemirror_mode": {
    "name": "ipython",
    "version": 3
   },
   "file_extension": ".py",
   "mimetype": "text/x-python",
   "name": "python",
   "nbconvert_exporter": "python",
   "pygments_lexer": "ipython3",
   "version": "3.7.6"
  }
 },
 "nbformat": 4,
 "nbformat_minor": 4
}
