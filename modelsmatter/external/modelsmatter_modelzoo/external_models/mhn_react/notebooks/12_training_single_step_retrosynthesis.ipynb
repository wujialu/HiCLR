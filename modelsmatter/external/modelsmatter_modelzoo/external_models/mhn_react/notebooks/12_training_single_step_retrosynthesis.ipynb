{
 "cells": [
  {
   "cell_type": "code",
   "execution_count": null,
   "metadata": {},
   "outputs": [],
   "source": [
    "%cd .."
   ]
  },
  {
   "cell_type": "markdown",
   "metadata": {},
   "source": [
    "# train on single-step retrosynthesis\n",
    "for saving the model to ```./data/model/``` add ```--save_model True```\n",
    "\n",
    "for further details call ```python -m mhnreact.train -h```"
   ]
  },
  {
   "cell_type": "markdown",
   "metadata": {},
   "source": [
    "## mhn model"
   ]
  },
  {
   "cell_type": "code",
   "execution_count": 17,
   "metadata": {},
   "outputs": [
    {
     "name": "stdout",
     "output_type": "stream",
     "text": [
      "seeded with 0\n",
      "loading X, y from csv\n",
      "train 40008 samples\n",
      "test 5007 samples\n",
      "valid 5001 samples\n",
      "11800 templates\n",
      "obfuscating 706 templates because they are only in test\n",
      "[759, 355, 241, 210, 138, 132, 90, 99, 69, 49, 44, 2821, 1852]\n",
      "{'fingerprint_type': 'morgan', 'template_fp_type': 'rdk', 'num_templates': 11800, 'fp_size': 4096, 'fp_radius': 2, 'device': 'cuda:0', 'batch_size': 128, 'pooling_operation_state_embedding': 'mean', 'pooling_operation_head': 'max', 'dropout': 0.2, 'lr': 0.0005, 'optimizer': 'Adam', 'activation_function': 'ReLU', 'verbose': False, 'hopf_input_size': 4096, 'hopf_output_size': None, 'hopf_num_heads': 1, 'hopf_asso_dim': 512, 'hopf_association_activation': 'Tanh', 'hopf_beta': 0.05, 'norm_input': True, 'norm_asso': True, 'hopf_n_layers': 1, 'mol_encoder_layers': 1, 'temp_encoder_layers': 1, 'encoder_af': 'ReLU', 'hopf_pooling_operation_head': 'mean'}\n",
      "loading tfp from file ./data/cache/templ_emb_4096_rdk2_11800_5854610437078579843841453284346972473875662921463140419388261575361415213389916933693998864075020914850195914610357939423215965314516020256039769991581398.npy\n",
      "Num of templates with added rand-vect of size 409 due to >=thresh (1): 10216\n",
      "(11800, 409) (11800,) 10216\n",
      "(11800, 4096) 11800\n",
      "adding template_matrix to params\n",
      "313it [00:09, 34.14it/s]\n",
      " 0 -- train_loss: 4.189, loss_valid: 3.733, val_t1acc: 0.339, val_t100acc: 0.855\n",
      "313it [00:09, 34.01it/s]\n",
      " 1 -- train_loss: 2.819, loss_valid: 3.297, val_t1acc: 0.389, val_t100acc: 0.889\n",
      "313it [00:09, 34.02it/s]\n",
      " 2 -- train_loss: 2.152, loss_valid: 3.155, val_t1acc: 0.402, val_t100acc: 0.898\n",
      "313it [00:09, 33.92it/s]\n",
      " 3 -- train_loss: 1.735, loss_valid: 3.083, val_t1acc: 0.413, val_t100acc: 0.905\n",
      "313it [00:09, 33.92it/s]\n",
      " 4 -- train_loss: 1.473, loss_valid: 3.078, val_t1acc: 0.419, val_t100acc: 0.903\n",
      "313it [00:09, 33.99it/s]\n",
      " 5 -- train_loss: 1.290, loss_valid: 3.052, val_t1acc: 0.420, val_t100acc: 0.903\n",
      "313it [00:09, 34.12it/s]\n",
      " 6 -- train_loss: 1.142, loss_valid: 3.070, val_t1acc: 0.418, val_t100acc: 0.906\n",
      "313it [00:09, 34.25it/s]\n",
      " 7 -- train_loss: 1.045, loss_valid: 3.091, val_t1acc: 0.421, val_t100acc: 0.900\n",
      "313it [00:09, 34.17it/s]\n",
      " 8 -- train_loss: 0.961, loss_valid: 3.084, val_t1acc: 0.419, val_t100acc: 0.907\n",
      "313it [00:09, 34.35it/s]\n",
      " 9 -- train_loss: 0.891, loss_valid: 3.120, val_t1acc: 0.414, val_t100acc: 0.901\n",
      "3.0523353099822996\n",
      "testing on the real test set ;)\n",
      "execute all templates\n",
      "59082600 441874 0.007478919343427676\n",
      "len(X_fp[test]): 5007\n",
      "running the templates\n",
      "100%|███████████████████████████████████████| 5007/5007 [01:57<00:00, 42.49it/s]\n",
      "Single-step retrosynthesis-evaluation, results on ttest:\n",
      "t1acc\tt2acc\tt3acc\tt5acc\tt10acc\tt20acc\tt50acc\tt100acc\tt101acc\t\n",
      "48.21\t63.99\t71.44\t79.19\t86.40\t91.09\t93.75\t94.55\t94.71\t"
     ]
    }
   ],
   "source": [
    "!python -m mhnreact.train --model_type=mhn --device=best --fp_size=4096  --fp_type morgan --template_fp_type rdk --concat_rand_template_thresh 1 \\\n",
    "--exp_name rerun --dataset_type 50k --csv_path ./data/USPTO_50k_MHN_prepro.csv.gz --split_col split --ssretroeval True --seed 0 \\\n",
    "--hopf_association_activation Tanh --fp_radius 2"
   ]
  },
  {
   "cell_type": "markdown",
   "metadata": {},
   "source": [
    "t1acc corresponds to top-1 exact match accuracy on the test set after applying the predicted templates"
   ]
  },
  {
   "cell_type": "markdown",
   "metadata": {},
   "source": [
    "## dnn model"
   ]
  },
  {
   "cell_type": "code",
   "execution_count": 23,
   "metadata": {},
   "outputs": [
    {
     "name": "stdout",
     "output_type": "stream",
     "text": [
      "seeded with 0\n",
      "loading X, y from csv\n",
      "train 40008 samples\n",
      "test 5007 samples\n",
      "valid 5001 samples\n",
      "11800 templates\n",
      "obfuscating 706 templates because they are only in test\n",
      "[759, 355, 241, 210, 138, 132, 90, 99, 69, 49, 44, 2821, 1852]\n",
      "{'fingerprint_type': 'morgan', 'template_fp_type': 'rdk', 'num_templates': 11800, 'fp_size': 4096, 'fp_radius': 2, 'device': 'cuda:0', 'batch_size': 512, 'pooling_operation_state_embedding': 'mean', 'pooling_operation_head': 'max', 'dropout': 0.2, 'lr': 0.001, 'optimizer': 'Adam', 'activation_function': 'ReLU', 'verbose': False, 'hopf_input_size': 4096, 'hopf_output_size': None, 'hopf_num_heads': 1, 'hopf_asso_dim': 4096, 'hopf_association_activation': 'None', 'hopf_beta': 0.05, 'norm_input': True, 'norm_asso': True, 'hopf_n_layers': 1, 'mol_encoder_layers': 1, 'temp_encoder_layers': 1, 'encoder_af': 'SELU', 'hopf_pooling_operation_head': 'mean'}\n",
      "79it [00:05, 14.77it/s]\n",
      " 0 -- train_loss: 5.737, loss_valid: 4.977, val_t1acc: 0.342, val_t100acc: 0.702\n",
      "79it [00:05, 15.00it/s]\n",
      " 1 -- train_loss: 0.850, loss_valid: 5.933, val_t1acc: 0.343, val_t100acc: 0.740\n",
      "79it [00:05, 14.88it/s]\n",
      " 2 -- train_loss: 0.494, loss_valid: 6.581, val_t1acc: 0.349, val_t100acc: 0.742\n",
      "79it [00:05, 14.85it/s]\n",
      " 3 -- train_loss: 0.291, loss_valid: 6.869, val_t1acc: 0.360, val_t100acc: 0.742\n",
      "79it [00:05, 14.80it/s]\n",
      " 4 -- train_loss: 0.201, loss_valid: 6.947, val_t1acc: 0.361, val_t100acc: 0.740\n",
      "79it [00:05, 14.71it/s]\n",
      " 5 -- train_loss: 0.152, loss_valid: 7.239, val_t1acc: 0.368, val_t100acc: 0.738\n",
      "79it [00:05, 14.69it/s]\n",
      " 6 -- train_loss: 0.113, loss_valid: 7.076, val_t1acc: 0.362, val_t100acc: 0.740\n",
      "4.977378702163696\n",
      "testing on the real test set ;)\n",
      "execute all templates\n",
      "59082600 441874 0.007478919343427676\n",
      "len(X_fp[test]): 5007\n",
      "running the templates\n",
      "100%|███████████████████████████████████████| 5007/5007 [01:57<00:00, 42.68it/s]\n",
      "Single-step retrosynthesis-evaluation, results on ttest:\n",
      "t1acc\tt2acc\tt3acc\tt5acc\tt10acc\tt20acc\tt50acc\tt100acc\tt101acc\t\n",
      "44.68\t59.72\t67.25\t74.96\t82.70\t88.48\t92.83\t94.37\t94.71\t"
     ]
    }
   ],
   "source": [
    "!python -m mhnreact.train --model_type=segler --device=best --fp_size=4096 --fp_type morgan --fp_radius 2 --batch_size=512 --encoder_af SELU --epochs 7 --lr 1e-3 --hopf_asso_dim 4096 \\\n",
    "--exp_name rerun --dataset_type 50k --csv_path ./data/USPTO_50k_MHN_prepro.csv.gz --split_col split --ssretroeval True --seed 0"
   ]
  },
  {
   "cell_type": "markdown",
   "metadata": {},
   "source": [
    "# final selected parameters for mhn"
   ]
  },
  {
   "cell_type": "code",
   "execution_count": 32,
   "metadata": {},
   "outputs": [
    {
     "name": "stdout",
     "output_type": "stream",
     "text": [
      "seeded with 0\n",
      "loading X, y from csv\n",
      "train 40008 samples\n",
      "valid 5001 samples\n",
      "test 5007 samples\n",
      "11800 templates\n",
      "obfuscating 706 templates because they are only in test\n",
      "adding val to train\n",
      "[725, 333, 241, 205, 142, 108, 97, 86, 92, 53, 54, 2871, 1908]\n",
      "{'fingerprint_type': 'maccs+morganc+topologicaltorsion+erg+atompair+pattern+rdkc+layered+mhfp', 'template_fp_type': 'rdkc+pattern+morganc+layered+atompair+erg+topologicaltorsion+mhfp', 'num_templates': 11800, 'fp_size': 30000, 'fp_radius': 2, 'device': 'cuda:1', 'batch_size': 1024, 'pooling_operation_state_embedding': 'mean', 'pooling_operation_head': 'max', 'dropout': 0.4, 'lr': 0.0001, 'optimizer': 'Adam', 'activation_function': 'ReLU', 'verbose': False, 'hopf_input_size': 30000, 'hopf_output_size': None, 'hopf_num_heads': 1, 'hopf_asso_dim': 1024, 'hopf_association_activation': 'None', 'hopf_beta': 0.03, 'norm_input': True, 'norm_asso': True, 'hopf_n_layers': 2, 'mol_encoder_layers': 1, 'temp_encoder_layers': 1, 'encoder_af': 'ReLU', 'hopf_pooling_operation_head': 'mean'}\n",
      "loading tfp from file ./data/cache/templ_emb_30000_rdkc+pattern+morganc+layered+atompair+erg+topologicaltorsion+mhfp2_11800_5854610437078579843841453284346972473875662921463140419388261575361415213389916933693998864075020914850195914610357939423215965314516020256039769991581398.npy\n",
      "Num of templates with added rand-vect of size 3000 due to >=thresh (1): 11094\n",
      "(11800, 3000) (11800,) 11094\n",
      "(11800, 30000) 11800\n",
      "adding template_matrix to params\n",
      "44it [00:46,  1.06s/it]\n",
      "44it [00:47,  1.09s/it]\n",
      "44it [00:46,  1.07s/it]\n",
      "44it [00:46,  1.05s/it]\n",
      "44it [00:46,  1.05s/it]\n",
      "44it [00:45,  1.04s/it]\n",
      "44it [00:45,  1.03s/it]\n",
      "44it [00:45,  1.04s/it]\n",
      "44it [00:45,  1.04s/it]\n",
      "44it [00:45,  1.03s/it]\n",
      " 0 -- train_loss: 0.938, loss_valid: 0.284, val_t1acc: 0.918, val_t100acc: 1.000\n",
      "44it [00:45,  1.03s/it]\n",
      "44it [00:45,  1.03s/it]\n",
      "44it [00:45,  1.02s/it]\n",
      "44it [00:45,  1.03s/it]\n",
      "44it [00:45,  1.03s/it]\n",
      "44it [00:45,  1.03s/it]\n",
      "44it [00:45,  1.04s/it]\n",
      "44it [00:45,  1.03s/it]\n",
      "44it [00:45,  1.04s/it]\n",
      "44it [00:45,  1.04s/it]\n",
      " 1 -- train_loss: 0.355, loss_valid: 0.033, val_t1acc: 0.995, val_t100acc: 1.000\n",
      "44it [00:45,  1.03s/it]\n",
      "44it [00:45,  1.03s/it]\n",
      "44it [00:45,  1.05s/it]\n",
      "44it [00:45,  1.04s/it]\n",
      "44it [00:45,  1.04s/it]\n",
      "44it [00:45,  1.04s/it]\n",
      "44it [00:45,  1.04s/it]\n",
      "44it [00:45,  1.04s/it]\n",
      "44it [00:45,  1.04s/it]\n",
      "44it [00:46,  1.05s/it]\n",
      " 2 -- train_loss: 0.173, loss_valid: 0.010, val_t1acc: 0.998, val_t100acc: 1.000\n",
      "44it [00:45,  1.04s/it]\n",
      "44it [00:45,  1.04s/it]\n",
      "44it [00:45,  1.04s/it]\n",
      "44it [00:46,  1.05s/it]\n",
      "44it [00:45,  1.04s/it]\n",
      "44it [00:45,  1.04s/it]\n",
      "44it [00:46,  1.05s/it]\n",
      "44it [00:45,  1.04s/it]\n",
      "44it [00:45,  1.04s/it]\n",
      "44it [00:45,  1.04s/it]\n",
      " 3 -- train_loss: 0.112, loss_valid: 0.008, val_t1acc: 0.998, val_t100acc: 1.000\n",
      "model saved to data/model/USPTO_50k_mhn_valloss0.008_retro_selected_1632315904.pt\n",
      "0.007613665238022804\n",
      "testing on the real test set ;)\n",
      "execute all templates\n",
      "59082600 441874 0.007478919343427676\n",
      "len(X_fp[test]): 5007\n",
      "running the templates\n",
      "100%|███████████████████████████████████████| 5007/5007 [01:56<00:00, 43.15it/s]\n",
      "Single-step retrosynthesis-evaluation, results on ttest:\n",
      "t1acc\tt2acc\tt3acc\tt5acc\tt10acc\tt20acc\tt50acc\tt100acc\tt101acc\t\n",
      "51.45\t67.25\t74.16\t80.75\t87.92\t91.91\t93.95\t94.63\t94.71\t"
     ]
    }
   ],
   "source": [
    "!python -m mhnreact.train --batch_size=1024 --concat_rand_template_thresh=1 --device=cuda:1 --dropout=0.4 \\\n",
    "--epochs=40 --fp_size=30000 --fp_type=maccs+morganc+topologicaltorsion+erg+atompair+pattern+rdkc+layered+mhfp --hopf_asso_dim=1024 --hopf_association_activation=None --hopf_beta=0.03 \\\n",
    "--norm_asso=True --norm_input=True --hopf_num_heads=1 --lr=0.0001 --model_type=mhn --template_fp_type rdkc+pattern+morganc+layered+atompair+erg+topologicaltorsion+mhfp \\\n",
    "--exp_name=retro_selected --reactant_pooling lgamma --hopf_n_layers 2 --layer2weight 0.1 --template_fp_type2 rdk \\\n",
    "--dataset_type 50k --csv_path ./data/USPTO_50k_MHN_prepro.csv.gz --split_col split --ssretroeval True --seed 0 --eval_every_n_epochs 10 --addval2train True --save_model True"
   ]
  },
  {
   "cell_type": "markdown",
   "metadata": {},
   "source": [
    "# time-split"
   ]
  },
  {
   "cell_type": "code",
   "execution_count": 31,
   "metadata": {},
   "outputs": [
    {
     "name": "stdout",
     "output_type": "stream",
     "text": [
      "seeded with 0\n",
      "loading X, y from csv\n",
      "nan 0 samples\n",
      "test 7315 samples\n",
      "valid 3517 samples\n",
      "train 38546 samples\n",
      "11800 templates\n",
      "obfuscating 1276 templates because they are only in test\n",
      "adding val to train\n",
      "0it [00:00, ?it/s]\n",
      "100%|██████████| 7315/7315 [00:03<00:00, 1847.76it/s] \n",
      "100%|██████████| 3517/3517 [00:03<00:00, 1001.60it/s] \n",
      "100%|██████████| 42063/42063 [00:23<00:00, 1808.62it/s]    | 28360/42063 [00:16<00:00, 32294.16it/s]�  | 31989/42063 [00:18<00:00, 33801.71it/s]\n",
      "[1528, 472, 332, 214, 172, 169, 119, 114, 102, 86, 83, 3924, 2719]\n",
      "{'fingerprint_type': 'maccs+morganc+topologicaltorsion+erg+atompair+pattern+rdkc+layered+mhfp', 'template_fp_type': 'rdkc+pattern+morganc+layered+atompair+erg+topologicaltorsion+mhfp', 'num_templates': 11800, 'fp_size': 30000, 'fp_radius': 2, 'device': 'cuda:1', 'batch_size': 1024, 'pooling_operation_state_embedding': 'mean', 'pooling_operation_head': 'max', 'dropout': 0.4, 'lr': 0.0001, 'optimizer': 'Adam', 'activation_function': 'ReLU', 'verbose': False, 'hopf_input_size': 30000, 'hopf_output_size': None, 'hopf_num_heads': 1, 'hopf_asso_dim': 1024, 'hopf_association_activation': 'None', 'hopf_beta': 0.03, 'norm_input': True, 'norm_asso': True, 'hopf_n_layers': 4, 'mol_encoder_layers': 1, 'temp_encoder_layers': 1, 'encoder_af': 'ReLU', 'hopf_pooling_operation_head': 'mean'}\n",
      "updating template-embedding; (just computing the template-fingerprint and using that)\n",
      "100%|██████████| 11800/11800 [00:06<00:00, 1897.37it/s] 11800 [00:01<00:00, 32251.77it/s]\n",
      "100%|██████████| 11800/11800 [00:07<00:00, 1659.80it/s] \n",
      "Num of templates with added rand-vect of size 3000 due to >=thresh (1): 10413\n",
      "(11800, 3000) (11800,) 10413\n",
      "(11800, 30000) 11800\n",
      "adding template_matrix to params\n",
      "42it [01:27,  2.07s/it]\n",
      "42it [01:30,  2.15s/it]\n",
      "42it [01:27,  2.09s/it]\n",
      "42it [01:26,  2.06s/it]\n",
      "42it [01:26,  2.07s/it]\n",
      "42it [01:25,  2.05s/it]\n",
      "42it [01:26,  2.06s/it]\n",
      "42it [01:25,  2.05s/it]\n",
      "42it [01:25,  2.04s/it]\n",
      "42it [01:25,  2.04s/it]\n",
      " 0 -- train_loss: 1.056, loss_valid: 0.323, val_t1acc: 0.904, val_t100acc: 1.000\n",
      "42it [01:26,  2.05s/it]\n",
      "42it [01:26,  2.06s/it]\n",
      "42it [01:26,  2.06s/it]\n",
      "42it [01:26,  2.06s/it]\n",
      "42it [01:26,  2.07s/it]\n",
      "42it [01:26,  2.07s/it]\n",
      "42it [01:26,  2.06s/it]\n",
      "42it [01:26,  2.07s/it]\n",
      "42it [01:27,  2.07s/it]\n",
      "42it [01:26,  2.07s/it]valid\n",
      " 1 -- train_loss: 0.445, loss_valid: 0.067, val_t1acc: 0.986, val_t100acc: 1.000\n",
      "42it [01:26,  2.05s/it]\n",
      "42it [01:26,  2.07s/it]\n",
      "42it [01:27,  2.08s/it]\n",
      "42it [01:27,  2.08s/it]\n",
      "42it [01:27,  2.07s/it]\n",
      "42it [01:27,  2.08s/it]\n",
      "42it [01:27,  2.08s/it]\n",
      "42it [01:27,  2.08s/it]\n",
      "42it [01:27,  2.08s/it]\n",
      "42it [01:27,  2.08s/it]valid\n",
      " 2 -- train_loss: 0.243, loss_valid: 0.020, val_t1acc: 0.997, val_t100acc: 1.000\n",
      "42it [01:26,  2.06s/it]\n",
      "42it [01:27,  2.07s/it]\n",
      "42it [01:27,  2.08s/it]\n",
      "42it [01:27,  2.08s/it]\n",
      "42it [01:27,  2.08s/it]\n",
      "42it [01:27,  2.08s/it]\n",
      "42it [01:27,  2.08s/it]\n",
      "42it [01:27,  2.08s/it]\n",
      "42it [01:27,  2.09s/it]\n",
      "42it [01:27,  2.08s/it]valid\n",
      " 3 -- train_loss: 0.162, loss_valid: 0.008, val_t1acc: 0.999, val_t100acc: 1.000\n",
      "0.008088136557489634\n",
      "testing on the real test set ;)\n",
      "execute all templates\n",
      "86317000 683460 0.007918023100895536\n",
      "len(X_fp[test]): 7315\n",
      "running the templates\n",
      "100%|██████████| 7315/7315 [03:09<00:00, 38.63it/s]\n",
      "Single-step retrosynthesis-evaluation, results on ttest:\n",
      "t1acc\tt2acc\tt3acc\tt5acc\tt10acc\tt20acc\tt50acc\tt100acc\tt101acc\t\n",
      "42.97\t58.06\t66.12\t74.37\t82.73\t88.34\t92.11\t93.41\t93.56\t\n"
     ]
    }
   ],
   "source": [
    "!python -m mhnreact.train --batch_size=1024 --concat_rand_template_thresh=1 --device=cuda:1 --dropout=0.4 \\\n",
    "--epochs=40 --fp_size=30000 --fp_type=maccs+morganc+topologicaltorsion+erg+atompair+pattern+rdkc+layered+mhfp --hopf_asso_dim=1024 --hopf_association_activation=None --hopf_beta=0.03 \\\n",
    "--norm_asso=True --norm_input=True --hopf_num_heads=1 --lr=0.0001 --model_type=mhn --template_fp_type rdkc+pattern+morganc+layered+atompair+erg+topologicaltorsion+mhfp \\\n",
    "--exp_name=retro_selected --reactant_pooling lgamma --hopf_n_layers 2 --layer2weight 0.1 --template_fp_type2 rdk \\\n",
    "--dataset_type 50k_time --csv_path ./data/USPTO_50k_MHN_prepro.csv.gz --split_col time_split_years --ssretroeval True --seed 0 --eval_every_n_epochs 10 --addval2train True --wandb True"
   ]
  }
 ],
 "metadata": {
  "kernelspec": {
   "display_name": "Python 3",
   "language": "python",
   "name": "python3"
  },
  "language_info": {
   "codemirror_mode": {
    "name": "ipython",
    "version": 3
   },
   "file_extension": ".py",
   "mimetype": "text/x-python",
   "name": "python",
   "nbconvert_exporter": "python",
   "pygments_lexer": "ipython3",
   "version": "3.7.6"
  }
 },
 "nbformat": 4,
 "nbformat_minor": 4
}
